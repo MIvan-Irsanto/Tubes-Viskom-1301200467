{
  "nbformat": 4,
  "nbformat_minor": 0,
  "metadata": {
    "colab": {
      "provenance": [],
      "gpuType": "T4"
    },
    "kernelspec": {
      "name": "python3",
      "display_name": "Python 3"
    },
    "language_info": {
      "name": "python"
    },
    "accelerator": "GPU"
  },
  "cells": [
    {
      "cell_type": "markdown",
      "source": [
        "# **TUGAS BESAR VISI KOMPUTER - KLASIFIKASI KEMATANGAN PISANG DENGAN CNN**\n",
        "M Ivan Irsanto\n",
        "\n",
        "\n",
        "1301200467\n",
        "\n",
        "\n",
        "IF4408"
      ],
      "metadata": {
        "id": "zTBFwGG_LACe"
      }
    },
    {
      "cell_type": "markdown",
      "source": [
        "# **PART 1 - MEMBUAT DAN MENYIMPAN MODEL .h5**"
      ],
      "metadata": {
        "id": "4tF3QAEnLTMc"
      }
    },
    {
      "cell_type": "markdown",
      "source": [
        "# **Importing Libraries**"
      ],
      "metadata": {
        "id": "Sv-hOdEW5_I9"
      }
    },
    {
      "cell_type": "code",
      "execution_count": 1,
      "metadata": {
        "id": "hqSb9Vn05kEQ"
      },
      "outputs": [],
      "source": [
        "import numpy as np\n",
        "import tensorflow as tf\n",
        "from keras.preprocessing.image import ImageDataGenerator\n",
        "import matplotlib.pyplot as plt"
      ]
    },
    {
      "cell_type": "code",
      "source": [
        "from google.colab import drive\n",
        "drive.mount('/content/drive')"
      ],
      "metadata": {
        "colab": {
          "base_uri": "https://localhost:8080/"
        },
        "id": "Sa9A9bLf6ClT",
        "outputId": "b0cafd62-3c1b-46a7-a2c3-6982663d93cd"
      },
      "execution_count": 2,
      "outputs": [
        {
          "output_type": "stream",
          "name": "stdout",
          "text": [
            "Drive already mounted at /content/drive; to attempt to forcibly remount, call drive.mount(\"/content/drive\", force_remount=True).\n"
          ]
        }
      ]
    },
    {
      "cell_type": "markdown",
      "source": [
        "# **Training set Image Processing**"
      ],
      "metadata": {
        "id": "aLlmUbaP6E3A"
      }
    },
    {
      "cell_type": "code",
      "source": [
        "training_set = tf.keras.utils.image_dataset_from_directory(\n",
        "    '/content/drive/MyDrive/banana-ripeness/training',\n",
        "    labels=\"inferred\",\n",
        "    label_mode=\"categorical\",\n",
        "    class_names=None,\n",
        "    color_mode=\"rgb\",\n",
        "    batch_size=32,\n",
        "    image_size=(64, 64),\n",
        "    shuffle=True,\n",
        "    seed=None,\n",
        "    validation_split=None,\n",
        "    subset=None,\n",
        "    interpolation=\"bilinear\",\n",
        "    follow_links=False,\n",
        "    crop_to_aspect_ratio=False\n",
        ")"
      ],
      "metadata": {
        "colab": {
          "base_uri": "https://localhost:8080/"
        },
        "id": "sJ_y-mav6IRj",
        "outputId": "d3a6c569-adcd-45d5-9052-e25ace77a1c6"
      },
      "execution_count": 3,
      "outputs": [
        {
          "output_type": "stream",
          "name": "stdout",
          "text": [
            "Found 330 files belonging to 3 classes.\n"
          ]
        }
      ]
    },
    {
      "cell_type": "markdown",
      "source": [
        "# **Validation set Image Processing**"
      ],
      "metadata": {
        "id": "pq4TGhRK6dVY"
      }
    },
    {
      "cell_type": "code",
      "source": [
        "validation_set = tf.keras.utils.image_dataset_from_directory(\n",
        "    '/content/drive/MyDrive/banana-ripeness/validation',\n",
        "    labels=\"inferred\",\n",
        "    label_mode=\"categorical\",\n",
        "    class_names=None,\n",
        "    color_mode=\"rgb\",\n",
        "    batch_size=32,\n",
        "    image_size=(64, 64),\n",
        "    shuffle=True,\n",
        "    seed=None,\n",
        "    validation_split=None,\n",
        "    subset=None,\n",
        "    interpolation=\"bilinear\",\n",
        "    follow_links=False,\n",
        "    crop_to_aspect_ratio=False\n",
        ")"
      ],
      "metadata": {
        "colab": {
          "base_uri": "https://localhost:8080/"
        },
        "id": "TM_h2Dko6mLv",
        "outputId": "bb1fc555-86d1-4556-a4b8-96ca8ab814e8"
      },
      "execution_count": 4,
      "outputs": [
        {
          "output_type": "stream",
          "name": "stdout",
          "text": [
            "Found 70 files belonging to 3 classes.\n"
          ]
        }
      ]
    },
    {
      "cell_type": "markdown",
      "source": [
        "# **Building CNN Model**"
      ],
      "metadata": {
        "id": "dl5cMHI76s72"
      }
    },
    {
      "cell_type": "code",
      "source": [
        "model = tf.keras.models.Sequential([\n",
        "    tf.keras.layers.Conv2D(64, (3, 3), activation='relu', input_shape=(64, 64, 3)),\n",
        "    tf.keras.layers.BatchNormalization(),\n",
        "    tf.keras.layers.MaxPooling2D(2, 2),\n",
        "    tf.keras.layers.Dropout(0.25),\n",
        "\n",
        "    tf.keras.layers.Conv2D(128, (3, 3), activation='relu'),\n",
        "    tf.keras.layers.BatchNormalization(),\n",
        "    tf.keras.layers.MaxPooling2D(2, 2),\n",
        "    tf.keras.layers.Dropout(0.25),\n",
        "\n",
        "    tf.keras.layers.Conv2D(256, (3, 3), activation='relu'),\n",
        "    tf.keras.layers.BatchNormalization(),\n",
        "    tf.keras.layers.MaxPooling2D(2, 2),\n",
        "    tf.keras.layers.Dropout(0.25),\n",
        "\n",
        "    tf.keras.layers.Flatten(),\n",
        "\n",
        "    tf.keras.layers.Dense(512, activation='relu'),\n",
        "    tf.keras.layers.BatchNormalization(),\n",
        "    tf.keras.layers.Dropout(0.5),\n",
        "\n",
        "    tf.keras.layers.Dense(256, activation='relu'),\n",
        "    tf.keras.layers.BatchNormalization(),\n",
        "    tf.keras.layers.Dropout(0.5),\n",
        "\n",
        "    tf.keras.layers.Dense(3, activation='softmax')\n",
        "])"
      ],
      "metadata": {
        "id": "Oqo2C4eX6wCv"
      },
      "execution_count": 5,
      "outputs": []
    },
    {
      "cell_type": "markdown",
      "source": [
        "# **Compile and Train Model**"
      ],
      "metadata": {
        "id": "czEQMB927NvP"
      }
    },
    {
      "cell_type": "code",
      "source": [
        "model.compile(optimizer='adam',loss='categorical_crossentropy',metrics=['accuracy'])"
      ],
      "metadata": {
        "id": "E55poArB6-A4"
      },
      "execution_count": 6,
      "outputs": []
    },
    {
      "cell_type": "code",
      "source": [
        "model.summary()"
      ],
      "metadata": {
        "colab": {
          "base_uri": "https://localhost:8080/"
        },
        "id": "NdrY9pkO7Bs7",
        "outputId": "13b0e6ca-06a9-4e09-cc00-38448cabaa3c"
      },
      "execution_count": 7,
      "outputs": [
        {
          "output_type": "stream",
          "name": "stdout",
          "text": [
            "Model: \"sequential\"\n",
            "_________________________________________________________________\n",
            " Layer (type)                Output Shape              Param #   \n",
            "=================================================================\n",
            " conv2d (Conv2D)             (None, 62, 62, 64)        1792      \n",
            "                                                                 \n",
            " batch_normalization (Batch  (None, 62, 62, 64)        256       \n",
            " Normalization)                                                  \n",
            "                                                                 \n",
            " max_pooling2d (MaxPooling2  (None, 31, 31, 64)        0         \n",
            " D)                                                              \n",
            "                                                                 \n",
            " dropout (Dropout)           (None, 31, 31, 64)        0         \n",
            "                                                                 \n",
            " conv2d_1 (Conv2D)           (None, 29, 29, 128)       73856     \n",
            "                                                                 \n",
            " batch_normalization_1 (Bat  (None, 29, 29, 128)       512       \n",
            " chNormalization)                                                \n",
            "                                                                 \n",
            " max_pooling2d_1 (MaxPoolin  (None, 14, 14, 128)       0         \n",
            " g2D)                                                            \n",
            "                                                                 \n",
            " dropout_1 (Dropout)         (None, 14, 14, 128)       0         \n",
            "                                                                 \n",
            " conv2d_2 (Conv2D)           (None, 12, 12, 256)       295168    \n",
            "                                                                 \n",
            " batch_normalization_2 (Bat  (None, 12, 12, 256)       1024      \n",
            " chNormalization)                                                \n",
            "                                                                 \n",
            " max_pooling2d_2 (MaxPoolin  (None, 6, 6, 256)         0         \n",
            " g2D)                                                            \n",
            "                                                                 \n",
            " dropout_2 (Dropout)         (None, 6, 6, 256)         0         \n",
            "                                                                 \n",
            " flatten (Flatten)           (None, 9216)              0         \n",
            "                                                                 \n",
            " dense (Dense)               (None, 512)               4719104   \n",
            "                                                                 \n",
            " batch_normalization_3 (Bat  (None, 512)               2048      \n",
            " chNormalization)                                                \n",
            "                                                                 \n",
            " dropout_3 (Dropout)         (None, 512)               0         \n",
            "                                                                 \n",
            " dense_1 (Dense)             (None, 256)               131328    \n",
            "                                                                 \n",
            " batch_normalization_4 (Bat  (None, 256)               1024      \n",
            " chNormalization)                                                \n",
            "                                                                 \n",
            " dropout_4 (Dropout)         (None, 256)               0         \n",
            "                                                                 \n",
            " dense_2 (Dense)             (None, 3)                 771       \n",
            "                                                                 \n",
            "=================================================================\n",
            "Total params: 5226883 (19.94 MB)\n",
            "Trainable params: 5224451 (19.93 MB)\n",
            "Non-trainable params: 2432 (9.50 KB)\n",
            "_________________________________________________________________\n"
          ]
        }
      ]
    },
    {
      "cell_type": "code",
      "source": [
        "training_history1 = model.fit(x=training_set,validation_data=validation_set,epochs=5)"
      ],
      "metadata": {
        "colab": {
          "base_uri": "https://localhost:8080/"
        },
        "id": "Ex62FFENLrhN",
        "outputId": "98bf61ff-5624-48aa-b55b-c1632c8d2fa1"
      },
      "execution_count": 20,
      "outputs": [
        {
          "output_type": "stream",
          "name": "stdout",
          "text": [
            "Epoch 1/5\n",
            "11/11 [==============================] - 21s 573ms/step - loss: 0.0587 - accuracy: 0.9848 - val_loss: 0.0156 - val_accuracy: 1.0000\n",
            "Epoch 2/5\n",
            "11/11 [==============================] - 23s 728ms/step - loss: 0.0928 - accuracy: 0.9606 - val_loss: 0.0077 - val_accuracy: 1.0000\n",
            "Epoch 3/5\n",
            "11/11 [==============================] - 19s 524ms/step - loss: 0.0780 - accuracy: 0.9788 - val_loss: 0.0207 - val_accuracy: 0.9857\n",
            "Epoch 4/5\n",
            "11/11 [==============================] - 28s 1s/step - loss: 0.0317 - accuracy: 0.9879 - val_loss: 0.0058 - val_accuracy: 1.0000\n",
            "Epoch 5/5\n",
            "11/11 [==============================] - 22s 637ms/step - loss: 0.0640 - accuracy: 0.9758 - val_loss: 0.0607 - val_accuracy: 0.9857\n"
          ]
        }
      ]
    },
    {
      "cell_type": "code",
      "source": [
        "training_history = model.fit(x=training_set,validation_data=validation_set,epochs=15)"
      ],
      "metadata": {
        "colab": {
          "base_uri": "https://localhost:8080/"
        },
        "id": "myKe7Hih7Ri-",
        "outputId": "f075a7b1-2d9e-402d-c84d-64b9bf4e7673"
      },
      "execution_count": 8,
      "outputs": [
        {
          "output_type": "stream",
          "name": "stdout",
          "text": [
            "Epoch 1/15\n",
            "11/11 [==============================] - 127s 3s/step - loss: 1.3693 - accuracy: 0.5606 - val_loss: 68.6089 - val_accuracy: 0.2000\n",
            "Epoch 2/15\n",
            "11/11 [==============================] - 21s 684ms/step - loss: 0.9971 - accuracy: 0.6758 - val_loss: 14.5340 - val_accuracy: 0.3143\n",
            "Epoch 3/15\n",
            "11/11 [==============================] - 20s 611ms/step - loss: 0.6007 - accuracy: 0.7758 - val_loss: 2.1887 - val_accuracy: 0.6000\n",
            "Epoch 4/15\n",
            "11/11 [==============================] - 20s 512ms/step - loss: 0.5176 - accuracy: 0.8455 - val_loss: 5.6287 - val_accuracy: 0.4857\n",
            "Epoch 5/15\n",
            "11/11 [==============================] - 22s 730ms/step - loss: 0.3450 - accuracy: 0.8939 - val_loss: 4.8900 - val_accuracy: 0.4857\n",
            "Epoch 6/15\n",
            "11/11 [==============================] - 22s 705ms/step - loss: 0.2406 - accuracy: 0.9182 - val_loss: 1.5423 - val_accuracy: 0.5714\n",
            "Epoch 7/15\n",
            "11/11 [==============================] - 20s 525ms/step - loss: 0.2303 - accuracy: 0.9303 - val_loss: 1.7467 - val_accuracy: 0.7286\n",
            "Epoch 8/15\n",
            "11/11 [==============================] - 21s 721ms/step - loss: 0.1871 - accuracy: 0.9364 - val_loss: 0.8690 - val_accuracy: 0.8000\n",
            "Epoch 9/15\n",
            "11/11 [==============================] - 20s 515ms/step - loss: 0.0888 - accuracy: 0.9697 - val_loss: 0.0939 - val_accuracy: 0.9857\n",
            "Epoch 10/15\n",
            "11/11 [==============================] - 20s 501ms/step - loss: 0.0840 - accuracy: 0.9667 - val_loss: 0.2690 - val_accuracy: 0.9143\n",
            "Epoch 11/15\n",
            "11/11 [==============================] - 22s 731ms/step - loss: 0.1028 - accuracy: 0.9697 - val_loss: 0.1974 - val_accuracy: 0.9429\n",
            "Epoch 12/15\n",
            "11/11 [==============================] - 20s 541ms/step - loss: 0.1057 - accuracy: 0.9758 - val_loss: 0.4397 - val_accuracy: 0.8571\n",
            "Epoch 13/15\n",
            "11/11 [==============================] - 20s 517ms/step - loss: 0.1371 - accuracy: 0.9697 - val_loss: 1.3843 - val_accuracy: 0.6286\n",
            "Epoch 14/15\n",
            "11/11 [==============================] - 22s 732ms/step - loss: 0.1176 - accuracy: 0.9636 - val_loss: 0.0428 - val_accuracy: 0.9857\n",
            "Epoch 15/15\n",
            "11/11 [==============================] - 19s 500ms/step - loss: 0.1146 - accuracy: 0.9667 - val_loss: 0.0616 - val_accuracy: 0.9714\n"
          ]
        }
      ]
    },
    {
      "cell_type": "code",
      "source": [
        "training_history2 = model.fit(x=training_set,validation_data=validation_set,epochs=25)"
      ],
      "metadata": {
        "colab": {
          "base_uri": "https://localhost:8080/"
        },
        "id": "wmZAocq1Lmtr",
        "outputId": "cdfd2f42-5920-48be-d2b0-5145e4f81dfc"
      },
      "execution_count": 21,
      "outputs": [
        {
          "output_type": "stream",
          "name": "stdout",
          "text": [
            "Epoch 1/25\n",
            "11/11 [==============================] - 21s 547ms/step - loss: 0.0252 - accuracy: 0.9909 - val_loss: 0.2119 - val_accuracy: 0.9429\n",
            "Epoch 2/25\n",
            "11/11 [==============================] - 24s 847ms/step - loss: 0.0343 - accuracy: 0.9848 - val_loss: 0.0073 - val_accuracy: 1.0000\n",
            "Epoch 3/25\n",
            "11/11 [==============================] - 21s 555ms/step - loss: 0.0214 - accuracy: 0.9909 - val_loss: 0.0449 - val_accuracy: 0.9714\n",
            "Epoch 4/25\n",
            "11/11 [==============================] - 23s 740ms/step - loss: 0.0470 - accuracy: 0.9879 - val_loss: 0.0342 - val_accuracy: 0.9714\n",
            "Epoch 5/25\n",
            "11/11 [==============================] - 23s 731ms/step - loss: 0.0233 - accuracy: 0.9879 - val_loss: 0.0318 - val_accuracy: 0.9857\n",
            "Epoch 6/25\n",
            "11/11 [==============================] - 22s 658ms/step - loss: 0.0678 - accuracy: 0.9606 - val_loss: 0.0122 - val_accuracy: 1.0000\n",
            "Epoch 7/25\n",
            "11/11 [==============================] - 21s 561ms/step - loss: 0.0574 - accuracy: 0.9848 - val_loss: 0.0090 - val_accuracy: 1.0000\n",
            "Epoch 8/25\n",
            "11/11 [==============================] - 23s 796ms/step - loss: 0.0917 - accuracy: 0.9788 - val_loss: 2.2070 - val_accuracy: 0.6143\n",
            "Epoch 9/25\n",
            "11/11 [==============================] - 21s 562ms/step - loss: 0.0677 - accuracy: 0.9848 - val_loss: 1.2402 - val_accuracy: 0.7000\n",
            "Epoch 10/25\n",
            "11/11 [==============================] - 24s 929ms/step - loss: 0.0628 - accuracy: 0.9727 - val_loss: 1.0806 - val_accuracy: 0.7286\n",
            "Epoch 11/25\n",
            "11/11 [==============================] - 23s 792ms/step - loss: 0.0747 - accuracy: 0.9727 - val_loss: 0.5393 - val_accuracy: 0.8571\n",
            "Epoch 12/25\n",
            "11/11 [==============================] - 23s 737ms/step - loss: 0.0628 - accuracy: 0.9818 - val_loss: 0.1473 - val_accuracy: 0.9429\n",
            "Epoch 13/25\n",
            "11/11 [==============================] - 23s 782ms/step - loss: 0.1532 - accuracy: 0.9424 - val_loss: 0.1019 - val_accuracy: 0.9571\n",
            "Epoch 14/25\n",
            "11/11 [==============================] - 21s 587ms/step - loss: 0.0733 - accuracy: 0.9788 - val_loss: 0.7605 - val_accuracy: 0.7571\n",
            "Epoch 15/25\n",
            "11/11 [==============================] - 21s 560ms/step - loss: 0.0284 - accuracy: 0.9939 - val_loss: 0.0882 - val_accuracy: 0.9571\n",
            "Epoch 16/25\n",
            "11/11 [==============================] - 27s 1s/step - loss: 0.0342 - accuracy: 0.9818 - val_loss: 0.0260 - val_accuracy: 0.9857\n",
            "Epoch 17/25\n",
            "11/11 [==============================] - 20s 548ms/step - loss: 0.0389 - accuracy: 0.9909 - val_loss: 0.0357 - val_accuracy: 0.9857\n",
            "Epoch 18/25\n",
            "11/11 [==============================] - 23s 782ms/step - loss: 0.0618 - accuracy: 0.9788 - val_loss: 0.1292 - val_accuracy: 0.9286\n",
            "Epoch 19/25\n",
            "11/11 [==============================] - 28s 1s/step - loss: 0.0404 - accuracy: 0.9879 - val_loss: 0.0037 - val_accuracy: 1.0000\n",
            "Epoch 20/25\n",
            "11/11 [==============================] - 21s 562ms/step - loss: 0.0464 - accuracy: 0.9818 - val_loss: 0.0841 - val_accuracy: 0.9714\n",
            "Epoch 21/25\n",
            "11/11 [==============================] - 23s 791ms/step - loss: 0.0226 - accuracy: 0.9879 - val_loss: 5.8738e-04 - val_accuracy: 1.0000\n",
            "Epoch 22/25\n",
            "11/11 [==============================] - 21s 563ms/step - loss: 0.0178 - accuracy: 0.9879 - val_loss: 0.0024 - val_accuracy: 1.0000\n",
            "Epoch 23/25\n",
            "11/11 [==============================] - 23s 734ms/step - loss: 0.0491 - accuracy: 0.9758 - val_loss: 0.1605 - val_accuracy: 0.9286\n",
            "Epoch 24/25\n",
            "11/11 [==============================] - 23s 739ms/step - loss: 0.0430 - accuracy: 0.9909 - val_loss: 0.5000 - val_accuracy: 0.8571\n",
            "Epoch 25/25\n",
            "11/11 [==============================] - 22s 687ms/step - loss: 0.0496 - accuracy: 0.9818 - val_loss: 0.2431 - val_accuracy: 0.8714\n"
          ]
        }
      ]
    },
    {
      "cell_type": "code",
      "source": [
        "training_history3 = model.fit(x=training_set,validation_data=validation_set,epochs=35)"
      ],
      "metadata": {
        "colab": {
          "base_uri": "https://localhost:8080/"
        },
        "id": "B3Eyde0_Lo7W",
        "outputId": "eb97b1a6-b4b7-4950-895a-0c257e61c08d"
      },
      "execution_count": 22,
      "outputs": [
        {
          "output_type": "stream",
          "name": "stdout",
          "text": [
            "Epoch 1/35\n",
            "11/11 [==============================] - 23s 784ms/step - loss: 0.0625 - accuracy: 0.9758 - val_loss: 0.0627 - val_accuracy: 0.9857\n",
            "Epoch 2/35\n",
            "11/11 [==============================] - 21s 561ms/step - loss: 0.0598 - accuracy: 0.9758 - val_loss: 0.0065 - val_accuracy: 1.0000\n",
            "Epoch 3/35\n",
            "11/11 [==============================] - 21s 563ms/step - loss: 0.0340 - accuracy: 0.9909 - val_loss: 0.0403 - val_accuracy: 0.9714\n",
            "Epoch 4/35\n",
            "11/11 [==============================] - 23s 738ms/step - loss: 0.0286 - accuracy: 0.9909 - val_loss: 0.1022 - val_accuracy: 0.9571\n",
            "Epoch 5/35\n",
            "11/11 [==============================] - 21s 556ms/step - loss: 0.0365 - accuracy: 0.9909 - val_loss: 0.1153 - val_accuracy: 0.9429\n",
            "Epoch 6/35\n",
            "11/11 [==============================] - 26s 608ms/step - loss: 0.0236 - accuracy: 0.9909 - val_loss: 0.0814 - val_accuracy: 0.9714\n",
            "Epoch 7/35\n",
            "11/11 [==============================] - 23s 753ms/step - loss: 0.0132 - accuracy: 0.9939 - val_loss: 0.0163 - val_accuracy: 0.9857\n",
            "Epoch 8/35\n",
            "11/11 [==============================] - 23s 736ms/step - loss: 0.0363 - accuracy: 0.9848 - val_loss: 0.0947 - val_accuracy: 0.9714\n",
            "Epoch 9/35\n",
            "11/11 [==============================] - 22s 550ms/step - loss: 0.0080 - accuracy: 1.0000 - val_loss: 0.1496 - val_accuracy: 0.9571\n",
            "Epoch 10/35\n",
            "11/11 [==============================] - 24s 789ms/step - loss: 0.0376 - accuracy: 0.9788 - val_loss: 0.1189 - val_accuracy: 0.9714\n",
            "Epoch 11/35\n",
            "11/11 [==============================] - 20s 554ms/step - loss: 0.0093 - accuracy: 1.0000 - val_loss: 0.0817 - val_accuracy: 0.9714\n",
            "Epoch 12/35\n",
            "11/11 [==============================] - 22s 667ms/step - loss: 0.0639 - accuracy: 0.9818 - val_loss: 0.0065 - val_accuracy: 1.0000\n",
            "Epoch 13/35\n",
            "11/11 [==============================] - 21s 563ms/step - loss: 0.0954 - accuracy: 0.9636 - val_loss: 1.2061 - val_accuracy: 0.6286\n",
            "Epoch 14/35\n",
            "11/11 [==============================] - 21s 561ms/step - loss: 0.0491 - accuracy: 0.9909 - val_loss: 1.3715 - val_accuracy: 0.7000\n",
            "Epoch 15/35\n",
            "11/11 [==============================] - 21s 550ms/step - loss: 0.0788 - accuracy: 0.9788 - val_loss: 0.2087 - val_accuracy: 0.9286\n",
            "Epoch 16/35\n",
            "11/11 [==============================] - 24s 797ms/step - loss: 0.0161 - accuracy: 0.9970 - val_loss: 0.0726 - val_accuracy: 0.9714\n",
            "Epoch 17/35\n",
            "11/11 [==============================] - 21s 559ms/step - loss: 0.0679 - accuracy: 0.9848 - val_loss: 0.1133 - val_accuracy: 0.9429\n",
            "Epoch 18/35\n",
            "11/11 [==============================] - 22s 673ms/step - loss: 0.0840 - accuracy: 0.9697 - val_loss: 0.1373 - val_accuracy: 0.9857\n",
            "Epoch 19/35\n",
            "11/11 [==============================] - 22s 722ms/step - loss: 0.0302 - accuracy: 0.9909 - val_loss: 0.2953 - val_accuracy: 0.9429\n",
            "Epoch 20/35\n",
            "11/11 [==============================] - 21s 556ms/step - loss: 0.0303 - accuracy: 0.9909 - val_loss: 0.4047 - val_accuracy: 0.8857\n",
            "Epoch 21/35\n",
            "11/11 [==============================] - 23s 777ms/step - loss: 0.0102 - accuracy: 1.0000 - val_loss: 0.1439 - val_accuracy: 0.9286\n",
            "Epoch 22/35\n",
            "11/11 [==============================] - 21s 553ms/step - loss: 0.0191 - accuracy: 0.9939 - val_loss: 0.0465 - val_accuracy: 0.9714\n",
            "Epoch 23/35\n",
            "11/11 [==============================] - 22s 629ms/step - loss: 0.0304 - accuracy: 0.9879 - val_loss: 0.0223 - val_accuracy: 1.0000\n",
            "Epoch 24/35\n",
            "11/11 [==============================] - 21s 552ms/step - loss: 0.0058 - accuracy: 1.0000 - val_loss: 0.0238 - val_accuracy: 0.9857\n",
            "Epoch 25/35\n",
            "11/11 [==============================] - 23s 793ms/step - loss: 0.0303 - accuracy: 0.9909 - val_loss: 0.0112 - val_accuracy: 1.0000\n",
            "Epoch 26/35\n",
            "11/11 [==============================] - 21s 565ms/step - loss: 0.0323 - accuracy: 0.9788 - val_loss: 0.6218 - val_accuracy: 0.8429\n",
            "Epoch 27/35\n",
            "11/11 [==============================] - 21s 556ms/step - loss: 0.0418 - accuracy: 0.9879 - val_loss: 0.2617 - val_accuracy: 0.9286\n",
            "Epoch 28/35\n",
            "11/11 [==============================] - 25s 730ms/step - loss: 0.0395 - accuracy: 0.9879 - val_loss: 0.0015 - val_accuracy: 1.0000\n",
            "Epoch 29/35\n",
            "11/11 [==============================] - 22s 722ms/step - loss: 0.0555 - accuracy: 0.9758 - val_loss: 0.7091 - val_accuracy: 0.8143\n",
            "Epoch 30/35\n",
            "11/11 [==============================] - 23s 790ms/step - loss: 0.0266 - accuracy: 0.9848 - val_loss: 0.0142 - val_accuracy: 1.0000\n",
            "Epoch 31/35\n",
            "11/11 [==============================] - 21s 548ms/step - loss: 0.0080 - accuracy: 1.0000 - val_loss: 2.1379e-04 - val_accuracy: 1.0000\n",
            "Epoch 32/35\n",
            "11/11 [==============================] - 21s 533ms/step - loss: 0.0156 - accuracy: 0.9909 - val_loss: 1.4287e-04 - val_accuracy: 1.0000\n",
            "Epoch 33/35\n",
            "11/11 [==============================] - 22s 645ms/step - loss: 0.0113 - accuracy: 0.9970 - val_loss: 0.0017 - val_accuracy: 1.0000\n",
            "Epoch 34/35\n",
            "11/11 [==============================] - 23s 739ms/step - loss: 0.0332 - accuracy: 0.9879 - val_loss: 0.8149 - val_accuracy: 0.8429\n",
            "Epoch 35/35\n",
            "11/11 [==============================] - 23s 729ms/step - loss: 0.0299 - accuracy: 0.9879 - val_loss: 0.6230 - val_accuracy: 0.8571\n"
          ]
        }
      ]
    },
    {
      "cell_type": "code",
      "source": [
        "training_history4 = model.fit(x=training_set,validation_data=validation_set,epochs=45)"
      ],
      "metadata": {
        "colab": {
          "base_uri": "https://localhost:8080/"
        },
        "id": "WpnmAv0BLp3P",
        "outputId": "a2689012-80e4-4d80-ca22-48e8a2fd02f3"
      },
      "execution_count": 23,
      "outputs": [
        {
          "output_type": "stream",
          "name": "stdout",
          "text": [
            "Epoch 1/45\n",
            "11/11 [==============================] - 20s 557ms/step - loss: 0.0337 - accuracy: 0.9879 - val_loss: 0.0010 - val_accuracy: 1.0000\n",
            "Epoch 2/45\n",
            "11/11 [==============================] - 23s 793ms/step - loss: 0.0045 - accuracy: 0.9970 - val_loss: 0.0014 - val_accuracy: 1.0000\n",
            "Epoch 3/45\n",
            "11/11 [==============================] - 21s 562ms/step - loss: 0.0210 - accuracy: 0.9909 - val_loss: 5.4685e-04 - val_accuracy: 1.0000\n",
            "Epoch 4/45\n",
            "11/11 [==============================] - 21s 555ms/step - loss: 0.0254 - accuracy: 0.9909 - val_loss: 0.1145 - val_accuracy: 0.9571\n",
            "Epoch 5/45\n",
            "11/11 [==============================] - 21s 567ms/step - loss: 0.0033 - accuracy: 1.0000 - val_loss: 0.7705 - val_accuracy: 0.8000\n",
            "Epoch 6/45\n",
            "11/11 [==============================] - 23s 739ms/step - loss: 0.0115 - accuracy: 0.9939 - val_loss: 0.3062 - val_accuracy: 0.9000\n",
            "Epoch 7/45\n",
            "11/11 [==============================] - 22s 668ms/step - loss: 0.0201 - accuracy: 0.9970 - val_loss: 0.0036 - val_accuracy: 1.0000\n",
            "Epoch 8/45\n",
            "11/11 [==============================] - 21s 562ms/step - loss: 0.0173 - accuracy: 0.9970 - val_loss: 0.0049 - val_accuracy: 1.0000\n",
            "Epoch 9/45\n",
            "11/11 [==============================] - 23s 786ms/step - loss: 0.0029 - accuracy: 1.0000 - val_loss: 0.0326 - val_accuracy: 0.9857\n",
            "Epoch 10/45\n",
            "11/11 [==============================] - 21s 558ms/step - loss: 0.0047 - accuracy: 1.0000 - val_loss: 0.0640 - val_accuracy: 0.9857\n",
            "Epoch 11/45\n",
            "11/11 [==============================] - 22s 731ms/step - loss: 0.0066 - accuracy: 0.9970 - val_loss: 0.0246 - val_accuracy: 0.9857\n",
            "Epoch 12/45\n",
            "11/11 [==============================] - 21s 555ms/step - loss: 0.0042 - accuracy: 1.0000 - val_loss: 0.0079 - val_accuracy: 1.0000\n",
            "Epoch 13/45\n",
            "11/11 [==============================] - 21s 554ms/step - loss: 0.0070 - accuracy: 0.9970 - val_loss: 0.0131 - val_accuracy: 0.9857\n",
            "Epoch 14/45\n",
            "11/11 [==============================] - 27s 793ms/step - loss: 0.0021 - accuracy: 1.0000 - val_loss: 0.0057 - val_accuracy: 1.0000\n",
            "Epoch 15/45\n",
            "11/11 [==============================] - 21s 564ms/step - loss: 0.0082 - accuracy: 0.9970 - val_loss: 0.0025 - val_accuracy: 1.0000\n",
            "Epoch 16/45\n",
            "11/11 [==============================] - 23s 736ms/step - loss: 0.0023 - accuracy: 1.0000 - val_loss: 7.4701e-04 - val_accuracy: 1.0000\n",
            "Epoch 17/45\n",
            "11/11 [==============================] - 22s 664ms/step - loss: 0.0019 - accuracy: 1.0000 - val_loss: 3.5897e-04 - val_accuracy: 1.0000\n",
            "Epoch 18/45\n",
            "11/11 [==============================] - 23s 732ms/step - loss: 0.0109 - accuracy: 0.9970 - val_loss: 8.4418e-04 - val_accuracy: 1.0000\n",
            "Epoch 19/45\n",
            "11/11 [==============================] - 21s 548ms/step - loss: 0.0020 - accuracy: 1.0000 - val_loss: 5.1715e-04 - val_accuracy: 1.0000\n",
            "Epoch 20/45\n",
            "11/11 [==============================] - 28s 1s/step - loss: 0.0061 - accuracy: 0.9970 - val_loss: 1.3522e-04 - val_accuracy: 1.0000\n",
            "Epoch 21/45\n",
            "11/11 [==============================] - 23s 729ms/step - loss: 0.0109 - accuracy: 0.9970 - val_loss: 1.4156e-04 - val_accuracy: 1.0000\n",
            "Epoch 22/45\n",
            "11/11 [==============================] - 22s 687ms/step - loss: 0.0055 - accuracy: 1.0000 - val_loss: 0.5119 - val_accuracy: 0.8429\n",
            "Epoch 23/45\n",
            "11/11 [==============================] - 21s 758ms/step - loss: 0.0086 - accuracy: 0.9970 - val_loss: 0.0171 - val_accuracy: 0.9857\n",
            "Epoch 24/45\n",
            "11/11 [==============================] - 21s 567ms/step - loss: 0.0143 - accuracy: 0.9970 - val_loss: 0.0035 - val_accuracy: 1.0000\n",
            "Epoch 25/45\n",
            "11/11 [==============================] - 22s 658ms/step - loss: 0.0020 - accuracy: 1.0000 - val_loss: 0.0377 - val_accuracy: 0.9857\n",
            "Epoch 26/45\n",
            "11/11 [==============================] - 21s 573ms/step - loss: 0.0119 - accuracy: 0.9939 - val_loss: 0.0318 - val_accuracy: 0.9857\n",
            "Epoch 27/45\n",
            "11/11 [==============================] - 23s 782ms/step - loss: 0.0024 - accuracy: 1.0000 - val_loss: 0.0084 - val_accuracy: 1.0000\n",
            "Epoch 28/45\n",
            "11/11 [==============================] - 21s 552ms/step - loss: 0.0035 - accuracy: 1.0000 - val_loss: 0.6737 - val_accuracy: 0.8286\n",
            "Epoch 29/45\n",
            "11/11 [==============================] - 23s 731ms/step - loss: 0.0345 - accuracy: 0.9909 - val_loss: 0.0086 - val_accuracy: 1.0000\n",
            "Epoch 30/45\n",
            "11/11 [==============================] - 21s 643ms/step - loss: 0.1107 - accuracy: 0.9788 - val_loss: 8.7904 - val_accuracy: 0.3714\n",
            "Epoch 31/45\n",
            "11/11 [==============================] - 21s 559ms/step - loss: 0.0554 - accuracy: 0.9818 - val_loss: 3.6792 - val_accuracy: 0.6000\n",
            "Epoch 32/45\n",
            "11/11 [==============================] - 23s 782ms/step - loss: 0.0172 - accuracy: 0.9939 - val_loss: 0.4899 - val_accuracy: 0.8000\n",
            "Epoch 33/45\n",
            "11/11 [==============================] - 21s 627ms/step - loss: 0.0489 - accuracy: 0.9818 - val_loss: 1.1097 - val_accuracy: 0.7143\n",
            "Epoch 34/45\n",
            "11/11 [==============================] - 24s 908ms/step - loss: 0.0036 - accuracy: 1.0000 - val_loss: 1.9852 - val_accuracy: 0.6857\n",
            "Epoch 35/45\n",
            "11/11 [==============================] - 23s 792ms/step - loss: 0.0542 - accuracy: 0.9848 - val_loss: 4.5865 - val_accuracy: 0.6143\n",
            "Epoch 36/45\n",
            "11/11 [==============================] - 21s 613ms/step - loss: 0.0098 - accuracy: 0.9939 - val_loss: 1.3110 - val_accuracy: 0.7000\n",
            "Epoch 37/45\n",
            "11/11 [==============================] - 23s 627ms/step - loss: 0.0215 - accuracy: 0.9939 - val_loss: 0.1300 - val_accuracy: 0.9429\n",
            "Epoch 38/45\n",
            "11/11 [==============================] - 21s 554ms/step - loss: 0.0549 - accuracy: 0.9848 - val_loss: 0.0596 - val_accuracy: 0.9857\n",
            "Epoch 39/45\n",
            "11/11 [==============================] - 23s 756ms/step - loss: 0.0181 - accuracy: 0.9909 - val_loss: 0.9292 - val_accuracy: 0.7429\n",
            "Epoch 40/45\n",
            "11/11 [==============================] - 23s 744ms/step - loss: 0.0257 - accuracy: 0.9909 - val_loss: 0.1933 - val_accuracy: 0.9286\n",
            "Epoch 41/45\n",
            "11/11 [==============================] - 20s 601ms/step - loss: 0.0203 - accuracy: 0.9939 - val_loss: 0.0030 - val_accuracy: 1.0000\n",
            "Epoch 42/45\n",
            "11/11 [==============================] - 21s 554ms/step - loss: 0.0058 - accuracy: 1.0000 - val_loss: 0.0018 - val_accuracy: 1.0000\n",
            "Epoch 43/45\n",
            "11/11 [==============================] - 23s 790ms/step - loss: 0.0109 - accuracy: 0.9939 - val_loss: 0.0057 - val_accuracy: 1.0000\n",
            "Epoch 44/45\n",
            "11/11 [==============================] - 21s 547ms/step - loss: 0.0181 - accuracy: 0.9939 - val_loss: 0.0684 - val_accuracy: 0.9857\n",
            "Epoch 45/45\n",
            "11/11 [==============================] - 21s 547ms/step - loss: 0.0083 - accuracy: 0.9970 - val_loss: 1.0437 - val_accuracy: 0.7143\n"
          ]
        }
      ]
    },
    {
      "cell_type": "markdown",
      "source": [
        "# **Evaluating Model**"
      ],
      "metadata": {
        "id": "yOXE_ncm7Tw9"
      }
    },
    {
      "cell_type": "code",
      "source": [
        "#Training set Accuracy\n",
        "train_loss, train_acc = model.evaluate(training_set)\n",
        "print('Training accuracy:', train_acc)"
      ],
      "metadata": {
        "colab": {
          "base_uri": "https://localhost:8080/"
        },
        "id": "skdYffp27WUn",
        "outputId": "61ad5d04-6d7f-4eb1-d932-77ed95cbcdde"
      },
      "execution_count": 9,
      "outputs": [
        {
          "output_type": "stream",
          "name": "stdout",
          "text": [
            "11/11 [==============================] - 17s 214ms/step - loss: 0.0772 - accuracy: 0.9788\n",
            "Training accuracy: 0.978787899017334\n"
          ]
        }
      ]
    },
    {
      "cell_type": "code",
      "source": [
        "#Validation set Accuracy\n",
        "val_loss, val_acc = model.evaluate(validation_set)\n",
        "print('Validation accuracy:', val_acc)"
      ],
      "metadata": {
        "colab": {
          "base_uri": "https://localhost:8080/"
        },
        "id": "PoHS_bDY7XGE",
        "outputId": "e384c62d-c459-46ef-dc70-f551d0d33268"
      },
      "execution_count": 10,
      "outputs": [
        {
          "output_type": "stream",
          "name": "stdout",
          "text": [
            "3/3 [==============================] - 3s 8ms/step - loss: 0.0616 - accuracy: 0.9714\n",
            "Validation accuracy: 0.9714285731315613\n"
          ]
        }
      ]
    },
    {
      "cell_type": "markdown",
      "source": [
        "# **Saving Model**"
      ],
      "metadata": {
        "id": "tJrveenM7ZCv"
      }
    },
    {
      "cell_type": "code",
      "source": [
        "model.save('trained_model.h5')"
      ],
      "metadata": {
        "id": "FgeSZHPs7dnF"
      },
      "execution_count": 11,
      "outputs": []
    },
    {
      "cell_type": "code",
      "source": [
        "training_history.history #Return Dictionary of history"
      ],
      "metadata": {
        "id": "XDabUxKI7i8y"
      },
      "execution_count": null,
      "outputs": []
    },
    {
      "cell_type": "code",
      "source": [
        "#Recording History in json\n",
        "import json\n",
        "with open('training_hist.json','w') as f:\n",
        "  json.dump(training_history.history,f)"
      ],
      "metadata": {
        "id": "jlbnaTt47jTP"
      },
      "execution_count": 13,
      "outputs": []
    },
    {
      "cell_type": "code",
      "source": [
        "print(training_history.history.keys())"
      ],
      "metadata": {
        "colab": {
          "base_uri": "https://localhost:8080/"
        },
        "id": "9u4wdwrA7lX1",
        "outputId": "7b49f0f9-71d3-4180-a533-606406b2de9b"
      },
      "execution_count": 14,
      "outputs": [
        {
          "output_type": "stream",
          "name": "stdout",
          "text": [
            "dict_keys(['loss', 'accuracy', 'val_loss', 'val_accuracy'])\n"
          ]
        }
      ]
    },
    {
      "cell_type": "markdown",
      "source": [
        "# **Calculating Accuracy of Model Achieved on Validation set**"
      ],
      "metadata": {
        "id": "5NcrCLpW7nIq"
      }
    },
    {
      "cell_type": "code",
      "source": [
        "print(\"Validation set Accuracy: {} %\".format(training_history.history['val_accuracy'][-1]*100))"
      ],
      "metadata": {
        "colab": {
          "base_uri": "https://localhost:8080/"
        },
        "id": "8yZQNR9n7qTF",
        "outputId": "76eebd63-43eb-4df3-9b16-944b17f5b514"
      },
      "execution_count": 11,
      "outputs": [
        {
          "output_type": "stream",
          "name": "stdout",
          "text": [
            "Validation set Accuracy: 97.14285731315613 %\n"
          ]
        }
      ]
    },
    {
      "cell_type": "markdown",
      "source": [
        "# **Accuracy Visualization**"
      ],
      "metadata": {
        "id": "kYupH9b47u_B"
      }
    },
    {
      "cell_type": "markdown",
      "source": [
        "**Training Model Accuracy**"
      ],
      "metadata": {
        "id": "ePDFQam67yio"
      }
    },
    {
      "cell_type": "code",
      "source": [
        "epochs = [i for i in range(1,16)]\n",
        "plt.plot(epochs,training_history.history['accuracy'],color='red')\n",
        "plt.xlabel('No. of Epochs')\n",
        "plt.ylabel('Traiining Accuracy')\n",
        "plt.title('Visualization of Training Accuracy Result')\n",
        "plt.show()"
      ],
      "metadata": {
        "colab": {
          "base_uri": "https://localhost:8080/",
          "height": 472
        },
        "id": "BCMovSY270_0",
        "outputId": "a51b4daf-1a51-4972-ed24-c5e7bc23ab09"
      },
      "execution_count": 12,
      "outputs": [
        {
          "output_type": "display_data",
          "data": {
            "text/plain": [
              "<Figure size 640x480 with 1 Axes>"
            ],
            "image/png": "[encoded data removed]"
          },
          "metadata": {}
        }
      ]
    },
    {
      "cell_type": "markdown",
      "source": [
        "**Validation Model Accuracy**"
      ],
      "metadata": {
        "id": "CPGy5zf671ov"
      }
    },
    {
      "cell_type": "code",
      "source": [
        "plt.plot(epochs,training_history.history['val_accuracy'],color='blue')\n",
        "plt.xlabel('No. of Epochs')\n",
        "plt.ylabel('Validation Accuracy')\n",
        "plt.title('Visualization of Validation Accuracy Result')\n",
        "plt.show()"
      ],
      "metadata": {
        "colab": {
          "base_uri": "https://localhost:8080/",
          "height": 472
        },
        "id": "S1eUcYC07_FY",
        "outputId": "eb628b1d-1b26-4163-801b-a9a66dbcfc9d"
      },
      "execution_count": 13,
      "outputs": [
        {
          "output_type": "display_data",
          "data": {
            "text/plain": [
              "<Figure size 640x480 with 1 Axes>"
            ],
            "image/png": "[encoded data removed]"
          },
          "metadata": {}
        }
      ]
    },
    {
      "cell_type": "code",
      "source": [
        "epochs = [i for i in range(1, 16)]\n",
        "\n",
        "# Plotting Training Accuracy\n",
        "plt.plot(epochs, training_history.history['accuracy'], color='red', label='Training Accuracy')\n",
        "# Plotting Validation Accuracy\n",
        "plt.plot(epochs, training_history.history['val_accuracy'], color='blue', label='Validation Accuracy')\n",
        "\n",
        "plt.xlabel('No. of Epochs')\n",
        "plt.ylabel('Accuracy')\n",
        "plt.title('Visualization of Training and Validation Accuracy Results')\n",
        "plt.legend()  # Add legend to distinguish between Training and Validation Accuracy\n",
        "plt.show()"
      ],
      "metadata": {
        "colab": {
          "base_uri": "https://localhost:8080/",
          "height": 472
        },
        "id": "X5kb9TwXY4Xk",
        "outputId": "b7cf4aed-5352-4cd5-96e4-67ae9dc2d22b"
      },
      "execution_count": 14,
      "outputs": [
        {
          "output_type": "display_data",
          "data": {
            "text/plain": [
              "<Figure size 640x480 with 1 Axes>"
            ],
            "image/png": "[encoded data removed]"
          },
          "metadata": {}
        }
      ]
    },
    {
      "cell_type": "code",
      "source": [
        "epochs = [i for i in range(1, 16)]\n",
        "\n",
        "# Plotting Training Loss\n",
        "plt.plot(epochs, training_history.history['loss'], color='red', label='Training Loss')\n",
        "# Plotting Validation Loss\n",
        "plt.plot(epochs, training_history.history['val_loss'], color='blue', label='Validation Loss')\n",
        "\n",
        "plt.xlabel('No. of Epochs')\n",
        "plt.ylabel('Loss')\n",
        "plt.title('Visualization of Training and Validation Loss Results')\n",
        "plt.legend()  # Add legend to distinguish between Training and Validation Loss\n",
        "plt.show()"
      ],
      "metadata": {
        "colab": {
          "base_uri": "https://localhost:8080/",
          "height": 472
        },
        "id": "SaKfU39FY9Sc",
        "outputId": "a73abb5e-bf6b-44bb-dcb3-aa4e84feeb70"
      },
      "execution_count": 15,
      "outputs": [
        {
          "output_type": "display_data",
          "data": {
            "text/plain": [
              "<Figure size 640x480 with 1 Axes>"
            ],
            "image/png": "[encoded data removed]"
          },
          "metadata": {}
        }
      ]
    },
    {
      "cell_type": "markdown",
      "source": [
        "# **Test Set Evaluation**"
      ],
      "metadata": {
        "id": "c-l2o9-58ENq"
      }
    },
    {
      "cell_type": "code",
      "source": [
        "\n",
        "test_set = tf.keras.utils.image_dataset_from_directory(\n",
        "    '/content/drive/MyDrive/banana-ripeness/test',\n",
        "    labels=\"inferred\",\n",
        "    label_mode=\"categorical\",\n",
        "    class_names=None,\n",
        "    color_mode=\"rgb\",\n",
        "    batch_size=32,\n",
        "    image_size=(64, 64),\n",
        "    shuffle=True,\n",
        "    seed=None,\n",
        "    validation_split=None,\n",
        "    subset=None,\n",
        "    interpolation=\"bilinear\",\n",
        "    follow_links=False,\n",
        "    crop_to_aspect_ratio=False\n",
        ")"
      ],
      "metadata": {
        "colab": {
          "base_uri": "https://localhost:8080/"
        },
        "id": "o5c0k9e-8Gvn",
        "outputId": "5b14967f-3694-4998-f26e-d6052eb630ff"
      },
      "execution_count": 16,
      "outputs": [
        {
          "output_type": "stream",
          "name": "stdout",
          "text": [
            "Found 70 files belonging to 3 classes.\n"
          ]
        }
      ]
    },
    {
      "cell_type": "code",
      "source": [
        "test_loss,test_acc = model.evaluate(test_set)\n",
        "print('Test accuracy:', test_acc)"
      ],
      "metadata": {
        "colab": {
          "base_uri": "https://localhost:8080/"
        },
        "id": "sKtWnBQO8Ib4",
        "outputId": "b27fd266-db4e-49f7-baf6-888822dd9565"
      },
      "execution_count": 17,
      "outputs": [
        {
          "output_type": "stream",
          "name": "stdout",
          "text": [
            "3/3 [==============================] - 24s 8ms/step - loss: 0.0616 - accuracy: 0.9714\n",
            "Test accuracy: 0.9714285731315613\n"
          ]
        }
      ]
    }
  ]
}